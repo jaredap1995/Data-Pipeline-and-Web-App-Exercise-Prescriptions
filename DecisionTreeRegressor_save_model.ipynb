{
 "cells": [
  {
   "cell_type": "code",
   "execution_count": 4,
   "id": "6ec3ce2d",
   "metadata": {},
   "outputs": [],
   "source": [
    "import streamlit as st\n",
    "import numpy as np\n",
    "import pandas as pd\n",
    "import tensorflow as tf\n",
    "from sklearn.tree import DecisionTreeRegressor\n",
    "from sklearn.model_selection import train_test_split\n",
    "import joblib\n",
    "import psycopg2"
   ]
  },
  {
   "cell_type": "code",
   "execution_count": 6,
   "id": "211ab747",
   "metadata": {},
   "outputs": [],
   "source": [
    "conn=psycopg2.connect(dbname='cabral_fitness',\n",
    "user='postgres',\n",
    "password=\"Maninthemirror1995\",\n",
    "host='34.102.107.137',\n",
    "port='5432',\n",
    "sslmode='disable')\n"
   ]
  },
  {
   "cell_type": "code",
   "execution_count": 7,
   "id": "d7aaefe9",
   "metadata": {},
   "outputs": [],
   "source": [
    "def load_data(conn):\n",
    "    cursor=conn.cursor()\n",
    "    cursor.execute(\"\"\"\n",
    "        SELECT \n",
    "            c.name AS client_name, \n",
    "            e.exercise AS exercise_name, \n",
    "            td.weight, \n",
    "            td.sets, \n",
    "            td.reps\n",
    "        FROM training_data td\n",
    "        LEFT JOIN client c ON td.client_id = c.id\n",
    "        LEFT JOIN exercises e ON td.exercise_id = e.id;\n",
    "        \"\"\")\n",
    "    all_workout_data_json = cursor.fetchall()\n",
    "    # with open('all_workout_data.json') as f:\n",
    "    #     all_workout_data_json = json.load(f)\n",
    "    return all_workout_data_json\n",
    "\n",
    "def passes_filters(exercise):\n",
    "\n",
    "    ## Preprocessing\n",
    "    char_to_remove = [str(i) for i in range(10)]\n",
    "    specials_to_remove = ['*', '/', '**', '***', '(', '[', ')', ']', '&']\n",
    "    yelenas_to_remove = ['did', 'doing', 'didnt', 'need', 'could', 'couldnt', '?']\n",
    "    emphasis_to_remove = ['emphasis', 'Emphasis', 'Focus', 'Condition', 'recon', 'recondition', 'Recondition', 'wedding']\n",
    "\n",
    "    if any(char in exercise for char in char_to_remove):\n",
    "        return False\n",
    "    if any(char in exercise for char in specials_to_remove):\n",
    "        return False\n",
    "    if any(char in exercise for char in yelenas_to_remove):\n",
    "        return False\n",
    "    if any(char in exercise for char in emphasis_to_remove):\n",
    "        return False\n",
    "    return True\n",
    "\n",
    "\n",
    "def create_inputs_outputs(workout_data_json):\n",
    "    inputs=[]\n",
    "    outputs=[]\n",
    "    workouts=[]\n",
    "    for client in workout_data_json:\n",
    "        for workout in workout_data_json[client]:\n",
    "            workouts.append(workout)\n",
    "            for i in range(len(workout)):\n",
    "                try:\n",
    "                    name = workout_data_json[client][workout][i][\"exercise\"]\n",
    "                    weight = workout_data_json[client][workout][i][\"weight\"]\n",
    "                    sets = workout_data_json[client][workout][i][\"sets\"]\n",
    "                    reps = workout_data_json[client][workout][i][\"reps\"]\n",
    "                    inputs.append(name)\n",
    "                    outputs.append([weight, sets, reps])\n",
    "                except:\n",
    "                    pass\n",
    "                \n",
    "    inputs=np.asarray(inputs)\n",
    "    outputs=np.asarray(outputs)\n",
    "\n",
    "    inputs=np.delete(inputs,8884)\n",
    "    outputs=np.delete(outputs,8884, axis=0)\n",
    "\n",
    "    inputs=np.delete(inputs,15176)\n",
    "    outputs=np.delete(outputs,15176, axis=0)\n",
    "\n",
    "    return inputs, outputs\n",
    "\n",
    "\n",
    "def convert_to_int(arr):\n",
    "    try:\n",
    "        return np.array([int(float(elem)) for elem in arr], dtype=int)\n",
    "    except ValueError:\n",
    "        return None\n",
    "    \n",
    "\n",
    "def unique_pairs(inputs, outputs):\n",
    "    unique_pairs = {}\n",
    "\n",
    "    for input_value, output_value in zip(inputs, outputs):\n",
    "        key = (input_value, tuple(output_value)) # tuple because lists are not hashable\n",
    "\n",
    "        if key not in unique_pairs:\n",
    "            unique_pairs[key] = output_value\n",
    "\n",
    "    unique_inputs = [key[0] for key in unique_pairs]\n",
    "    unique_outputs = [unique_pairs[key] for key in unique_pairs]\n",
    "    return unique_inputs, unique_outputs\n",
    "\n",
    "def filter_data(inputs, outputs):\n",
    "    #Filtering out exercises that don't pass the string filters\n",
    "    new_inputs = []\n",
    "    new_outputs = []\n",
    "    for i, exercise in enumerate(inputs):\n",
    "        if passes_filters(exercise):\n",
    "            new_inputs.append(exercise)\n",
    "            new_outputs.append(outputs[i])\n",
    "\n",
    "    inputs = new_inputs\n",
    "    outputs = new_outputs\n",
    "\n",
    "    # Making sure all values are integers\n",
    "    converted_outputs = []\n",
    "    new_inputs = []\n",
    "\n",
    "    for i, arr in enumerate(outputs):\n",
    "        converted_arr = convert_to_int(arr)\n",
    "        if converted_arr is not None:\n",
    "            converted_outputs.append(converted_arr)\n",
    "            new_inputs.append(inputs[i])\n",
    "\n",
    "    inputs = new_inputs\n",
    "    outputs = converted_outputs\n",
    "\n",
    "    return inputs, outputs\n",
    "\n",
    "\n",
    "def tokenize_and_pad(unique_inputs, unique_outputs):\n",
    "    # Tokenize inputs\n",
    "    tokenizer=tf.keras.preprocessing.text.Tokenizer\n",
    "    pad_sequences=tf.keras.preprocessing.sequence.pad_sequences\n",
    "\n",
    "    input_tokenizer = tokenizer(char_level=False, filters='', lower=False)\n",
    "    input_tokenizer.fit_on_texts(unique_inputs)\n",
    "    input_sequences = input_tokenizer.texts_to_sequences(unique_inputs)\n",
    "\n",
    "    # Pad sequences\n",
    "    input_seq_padded = pad_sequences(input_sequences, padding='pre')\n",
    "\n",
    "    #Changing outputs to 2D Array\n",
    "    outputs=np.asarray(unique_outputs)\n",
    "    outputs\n",
    "\n",
    "    return input_tokenizer, pad_sequences, input_seq_padded, outputs\n",
    "\n",
    "def split_fit_model(input_seq_padded, outputs):\n",
    "    # Splitting data\n",
    "    X=input_seq_padded\n",
    "    y=outputs\n",
    "    X_train, X_test, y_train, y_test = train_test_split(X, y)\n",
    "\n",
    "    # Create and fit the model\n",
    "    regressor = DecisionTreeRegressor()\n",
    "    regressor.fit(input_seq_padded, outputs)\n",
    "\n",
    "    return regressor, X_test, y_test\n"
   ]
  },
  {
   "cell_type": "code",
   "execution_count": null,
   "id": "daea587a",
   "metadata": {},
   "outputs": [],
   "source": []
  },
  {
   "cell_type": "code",
   "execution_count": 10,
   "id": "d8fc2c52",
   "metadata": {},
   "outputs": [],
   "source": [
    "def ai_prescription_support(conn):\n",
    "    #set session state variable\n",
    "#     if 'regressor_ai' not in st.session_state:\n",
    "#         st.session_state['regressor_ai'] = False\n",
    "\n",
    "    # Run the functions\n",
    "    workout_data = load_data(conn)\n",
    "    workout_data=np.asarray(workout_data)\n",
    "    # inputs, outputs = create_inputs_outputs(workout_data_json)\n",
    "    inputs, outputs = filter_data(workout_data[:,1], workout_data[:,2:])\n",
    "    # unique_inputs, unique_outputs = unique_pairs(inputs, outputs)\n",
    "    input_tokenizer, pad_sequences, input_seq_padded, outputs = tokenize_and_pad(inputs, outputs)\n",
    "    regressor, X_test, y_test = split_fit_model(input_seq_padded, outputs)\n",
    "    \n",
    "#     workout=st.multiselect(\"Select Exercises\", exercises)\n",
    "# #     submit=st.button(\"Submit\", key='regressor_test_submit')\n",
    "# #     if submit or st.session_state['regressor_ai']:\n",
    "# #         st.session_state['regressor_ai'] = True\n",
    "# #         token_exercise=input_tokenizer.texts_to_sequences(workout)\n",
    "# #         token_exercise=np.asarray(token_exercise)\n",
    "# #         token_exercise=pad_sequences(token_exercise, maxlen=6, padding='pre')\n",
    "# #         try:\n",
    "# #             predicted_output = regressor.predict(token_exercise)\n",
    "# #         except ValueError as e:\n",
    "# #             if \"minimum of 1 is required\" in str(e):\n",
    "# #                 st.error(\"No Exercises Selected\")\n",
    "# #                 st.stop()\n",
    "# #             else:\n",
    "# #                 raise e\n",
    "# #         predicted_output=predicted_output.astype(int)\n",
    "# #         df=pd.DataFrame(predicted_output, columns=['Weight', 'Sets', 'Reps'])\n",
    "# #         workout=pd.Series(workout, name='Exercise')\n",
    "# #         df=pd.concat([workout, df], axis=1)\n",
    "#         st.experimental_data_editor(df)\n",
    "\n",
    "    return regressor"
   ]
  },
  {
   "cell_type": "code",
   "execution_count": 12,
   "id": "1624a6e3",
   "metadata": {},
   "outputs": [],
   "source": [
    "regressor=ai_prescription_support(conn)"
   ]
  },
  {
   "cell_type": "code",
   "execution_count": 13,
   "id": "b4c513fe",
   "metadata": {},
   "outputs": [],
   "source": [
    "conn.close()"
   ]
  },
  {
   "cell_type": "code",
   "execution_count": 14,
   "id": "c4c70ae3",
   "metadata": {},
   "outputs": [
    {
     "data": {
      "text/html": [
       "<style>#sk-container-id-2 {color: black;background-color: white;}#sk-container-id-2 pre{padding: 0;}#sk-container-id-2 div.sk-toggleable {background-color: white;}#sk-container-id-2 label.sk-toggleable__label {cursor: pointer;display: block;width: 100%;margin-bottom: 0;padding: 0.3em;box-sizing: border-box;text-align: center;}#sk-container-id-2 label.sk-toggleable__label-arrow:before {content: \"▸\";float: left;margin-right: 0.25em;color: #696969;}#sk-container-id-2 label.sk-toggleable__label-arrow:hover:before {color: black;}#sk-container-id-2 div.sk-estimator:hover label.sk-toggleable__label-arrow:before {color: black;}#sk-container-id-2 div.sk-toggleable__content {max-height: 0;max-width: 0;overflow: hidden;text-align: left;background-color: #f0f8ff;}#sk-container-id-2 div.sk-toggleable__content pre {margin: 0.2em;color: black;border-radius: 0.25em;background-color: #f0f8ff;}#sk-container-id-2 input.sk-toggleable__control:checked~div.sk-toggleable__content {max-height: 200px;max-width: 100%;overflow: auto;}#sk-container-id-2 input.sk-toggleable__control:checked~label.sk-toggleable__label-arrow:before {content: \"▾\";}#sk-container-id-2 div.sk-estimator input.sk-toggleable__control:checked~label.sk-toggleable__label {background-color: #d4ebff;}#sk-container-id-2 div.sk-label input.sk-toggleable__control:checked~label.sk-toggleable__label {background-color: #d4ebff;}#sk-container-id-2 input.sk-hidden--visually {border: 0;clip: rect(1px 1px 1px 1px);clip: rect(1px, 1px, 1px, 1px);height: 1px;margin: -1px;overflow: hidden;padding: 0;position: absolute;width: 1px;}#sk-container-id-2 div.sk-estimator {font-family: monospace;background-color: #f0f8ff;border: 1px dotted black;border-radius: 0.25em;box-sizing: border-box;margin-bottom: 0.5em;}#sk-container-id-2 div.sk-estimator:hover {background-color: #d4ebff;}#sk-container-id-2 div.sk-parallel-item::after {content: \"\";width: 100%;border-bottom: 1px solid gray;flex-grow: 1;}#sk-container-id-2 div.sk-label:hover label.sk-toggleable__label {background-color: #d4ebff;}#sk-container-id-2 div.sk-serial::before {content: \"\";position: absolute;border-left: 1px solid gray;box-sizing: border-box;top: 0;bottom: 0;left: 50%;z-index: 0;}#sk-container-id-2 div.sk-serial {display: flex;flex-direction: column;align-items: center;background-color: white;padding-right: 0.2em;padding-left: 0.2em;position: relative;}#sk-container-id-2 div.sk-item {position: relative;z-index: 1;}#sk-container-id-2 div.sk-parallel {display: flex;align-items: stretch;justify-content: center;background-color: white;position: relative;}#sk-container-id-2 div.sk-item::before, #sk-container-id-2 div.sk-parallel-item::before {content: \"\";position: absolute;border-left: 1px solid gray;box-sizing: border-box;top: 0;bottom: 0;left: 50%;z-index: -1;}#sk-container-id-2 div.sk-parallel-item {display: flex;flex-direction: column;z-index: 1;position: relative;background-color: white;}#sk-container-id-2 div.sk-parallel-item:first-child::after {align-self: flex-end;width: 50%;}#sk-container-id-2 div.sk-parallel-item:last-child::after {align-self: flex-start;width: 50%;}#sk-container-id-2 div.sk-parallel-item:only-child::after {width: 0;}#sk-container-id-2 div.sk-dashed-wrapped {border: 1px dashed gray;margin: 0 0.4em 0.5em 0.4em;box-sizing: border-box;padding-bottom: 0.4em;background-color: white;}#sk-container-id-2 div.sk-label label {font-family: monospace;font-weight: bold;display: inline-block;line-height: 1.2em;}#sk-container-id-2 div.sk-label-container {text-align: center;}#sk-container-id-2 div.sk-container {/* jupyter's `normalize.less` sets `[hidden] { display: none; }` but bootstrap.min.css set `[hidden] { display: none !important; }` so we also need the `!important` here to be able to override the default hidden behavior on the sphinx rendered scikit-learn.org. See: https://github.com/scikit-learn/scikit-learn/issues/21755 */display: inline-block !important;position: relative;}#sk-container-id-2 div.sk-text-repr-fallback {display: none;}</style><div id=\"sk-container-id-2\" class=\"sk-top-container\"><div class=\"sk-text-repr-fallback\"><pre>DecisionTreeRegressor()</pre><b>In a Jupyter environment, please rerun this cell to show the HTML representation or trust the notebook. <br />On GitHub, the HTML representation is unable to render, please try loading this page with nbviewer.org.</b></div><div class=\"sk-container\" hidden><div class=\"sk-item\"><div class=\"sk-estimator sk-toggleable\"><input class=\"sk-toggleable__control sk-hidden--visually\" id=\"sk-estimator-id-2\" type=\"checkbox\" checked><label for=\"sk-estimator-id-2\" class=\"sk-toggleable__label sk-toggleable__label-arrow\">DecisionTreeRegressor</label><div class=\"sk-toggleable__content\"><pre>DecisionTreeRegressor()</pre></div></div></div></div></div>"
      ],
      "text/plain": [
       "DecisionTreeRegressor()"
      ]
     },
     "execution_count": 14,
     "metadata": {},
     "output_type": "execute_result"
    }
   ],
   "source": [
    "regressor"
   ]
  },
  {
   "cell_type": "code",
   "execution_count": 15,
   "id": "56f09431",
   "metadata": {},
   "outputs": [
    {
     "data": {
      "text/plain": [
       "['DTR_exercise_variables.joblib']"
      ]
     },
     "execution_count": 15,
     "metadata": {},
     "output_type": "execute_result"
    }
   ],
   "source": [
    "# Save the trained model to a file\n",
    "joblib.dump(regressor, 'DTR_exercise_variables.joblib')"
   ]
  },
  {
   "cell_type": "code",
   "execution_count": null,
   "id": "9ee1d423",
   "metadata": {},
   "outputs": [],
   "source": []
  }
 ],
 "metadata": {
  "kernelspec": {
   "display_name": "Python 3 (ipykernel)",
   "language": "python",
   "name": "python3"
  },
  "language_info": {
   "codemirror_mode": {
    "name": "ipython",
    "version": 3
   },
   "file_extension": ".py",
   "mimetype": "text/x-python",
   "name": "python",
   "nbconvert_exporter": "python",
   "pygments_lexer": "ipython3",
   "version": "3.10.8"
  }
 },
 "nbformat": 4,
 "nbformat_minor": 5
}
